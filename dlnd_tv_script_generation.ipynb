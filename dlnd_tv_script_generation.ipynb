{
 "cells": [
  {
   "cell_type": "markdown",
   "metadata": {},
   "source": [
    "# TV Script Generation\n",
    "In this project, you'll generate your own [Simpsons](https://en.wikipedia.org/wiki/The_Simpsons) TV scripts using RNNs.  You'll be using part of the [Simpsons dataset](https://www.kaggle.com/wcukierski/the-simpsons-by-the-data) of scripts from 27 seasons.  The Neural Network you'll build will generate a new TV script for a scene at [Moe's Tavern](https://simpsonswiki.com/wiki/Moe's_Tavern).\n",
    "## Get the Data\n",
    "The data is already provided for you.  You'll be using a subset of the original dataset.  It consists of only the scenes in Moe's Tavern.  This doesn't include other versions of the tavern, like \"Moe's Cavern\", \"Flaming Moe's\", \"Uncle Moe's Family Feed-Bag\", etc.."
   ]
  },
  {
   "cell_type": "code",
   "execution_count": 1,
   "metadata": {},
   "outputs": [],
   "source": [
    "\"\"\"\n",
    "DON'T MODIFY ANYTHING IN THIS CELL\n",
    "\"\"\"\n",
    "import helper\n",
    "\n",
    "data_dir = './data/simpsons/moes_tavern_lines.txt'\n",
    "text = helper.load_data(data_dir)\n",
    "# Ignore notice, since we don't use it for analysing the data\n",
    "text = text[81:]"
   ]
  },
  {
   "cell_type": "markdown",
   "metadata": {},
   "source": [
    "## Explore the Data\n",
    "Play around with `view_sentence_range` to view different parts of the data."
   ]
  },
  {
   "cell_type": "code",
   "execution_count": 2,
   "metadata": {},
   "outputs": [
    {
     "name": "stdout",
     "output_type": "stream",
     "text": [
      "Dataset Stats\n",
      "Roughly the number of unique words: 11492\n",
      "Number of scenes: 262\n",
      "Average number of sentences in each scene: 15.248091603053435\n",
      "Number of lines: 4257\n",
      "Average number of words in each line: 11.50434578341555\n",
      "\n",
      "The sentences 0 to 10:\n",
      "Moe_Szyslak: (INTO PHONE) Moe's Tavern. Where the elite meet to drink.\n",
      "Bart_Simpson: Eh, yeah, hello, is Mike there? Last name, Rotch.\n",
      "Moe_Szyslak: (INTO PHONE) Hold on, I'll check. (TO BARFLIES) Mike Rotch. Mike Rotch. Hey, has anybody seen Mike Rotch, lately?\n",
      "Moe_Szyslak: (INTO PHONE) Listen you little puke. One of these days I'm gonna catch you, and I'm gonna carve my name on your back with an ice pick.\n",
      "Moe_Szyslak: What's the matter Homer? You're not your normal effervescent self.\n",
      "Homer_Simpson: I got my problems, Moe. Give me another one.\n",
      "Moe_Szyslak: Homer, hey, you should not drink to forget your problems.\n",
      "Barney_Gumble: Yeah, you should only drink to enhance your social skills.\n",
      "\n",
      "\n"
     ]
    }
   ],
   "source": [
    "view_sentence_range = (0, 10)\n",
    "\n",
    "\"\"\"\n",
    "DON'T MODIFY ANYTHING IN THIS CELL\n",
    "\"\"\"\n",
    "import numpy as np\n",
    "\n",
    "print('Dataset Stats')\n",
    "print('Roughly the number of unique words: {}'.format(len({word: None for word in text.split()})))\n",
    "scenes = text.split('\\n\\n')\n",
    "print('Number of scenes: {}'.format(len(scenes)))\n",
    "sentence_count_scene = [scene.count('\\n') for scene in scenes]\n",
    "print('Average number of sentences in each scene: {}'.format(np.average(sentence_count_scene)))\n",
    "\n",
    "sentences = [sentence for scene in scenes for sentence in scene.split('\\n')]\n",
    "print('Number of lines: {}'.format(len(sentences)))\n",
    "word_count_sentence = [len(sentence.split()) for sentence in sentences]\n",
    "print('Average number of words in each line: {}'.format(np.average(word_count_sentence)))\n",
    "\n",
    "print()\n",
    "print('The sentences {} to {}:'.format(*view_sentence_range))\n",
    "print('\\n'.join(text.split('\\n')[view_sentence_range[0]:view_sentence_range[1]]))"
   ]
  },
  {
   "cell_type": "markdown",
   "metadata": {},
   "source": [
    "## Implement Preprocessing Functions\n",
    "The first thing to do to any dataset is preprocessing.  Implement the following preprocessing functions below:\n",
    "- Lookup Table\n",
    "- Tokenize Punctuation\n",
    "\n",
    "### Lookup Table\n",
    "To create a word embedding, you first need to transform the words to ids.  In this function, create two dictionaries:\n",
    "- Dictionary to go from the words to an id, we'll call `vocab_to_int`\n",
    "- Dictionary to go from the id to word, we'll call `int_to_vocab`\n",
    "\n",
    "Return these dictionaries in the following tuple `(vocab_to_int, int_to_vocab)`"
   ]
  },
  {
   "cell_type": "code",
   "execution_count": 5,
   "metadata": {},
   "outputs": [
    {
     "name": "stdout",
     "output_type": "stream",
     "text": [
      "Tests Passed\n"
     ]
    }
   ],
   "source": [
    "import numpy as np\n",
    "import problem_unittests as tests\n",
    "from collections import Counter\n",
    "\n",
    "def create_lookup_tables(text):\n",
    "    \"\"\"\n",
    "    Create lookup tables for vocabulary\n",
    "    :param text: The text of tv scripts split into words\n",
    "    :return: A tuple of dicts (vocab_to_int, int_to_vocab)\n",
    "    \"\"\"\n",
    "    # TODO: Implement Function\n",
    "    word_counts = Counter(text)\n",
    "    sorted_words = sorted(word_counts, key=word_counts.get, reverse=True)\n",
    "    int_to_vocab = {ii: word for ii, word in enumerate(sorted_words)}\n",
    "    vocab_to_int = {word: ii for ii, word in int_to_vocab.items()}\n",
    "    \n",
    "    return vocab_to_int, int_to_vocab\n",
    "\n",
    "\n",
    "\"\"\"\n",
    "DON'T MODIFY ANYTHING IN THIS CELL THAT IS BELOW THIS LINE\n",
    "\"\"\"\n",
    "tests.test_create_lookup_tables(create_lookup_tables)"
   ]
  },
  {
   "cell_type": "markdown",
   "metadata": {},
   "source": [
    "### Tokenize Punctuation\n",
    "We'll be splitting the script into a word array using spaces as delimiters.  However, punctuations like periods and exclamation marks make it hard for the neural network to distinguish between the word \"bye\" and \"bye!\".\n",
    "\n",
    "Implement the function `token_lookup` to return a dict that will be used to tokenize symbols like \"!\" into \"||Exclamation_Mark||\".  Create a dictionary for the following symbols where the symbol is the key and value is the token:\n",
    "- Period ( . )\n",
    "- Comma ( , )\n",
    "- Quotation Mark ( \" )\n",
    "- Semicolon ( ; )\n",
    "- Exclamation mark ( ! )\n",
    "- Question mark ( ? )\n",
    "- Left Parentheses ( ( )\n",
    "- Right Parentheses ( ) )\n",
    "- Dash ( -- )\n",
    "- Return ( \\n )\n",
    "\n",
    "This dictionary will be used to token the symbols and add the delimiter (space) around it.  This separates the symbols as it's own word, making it easier for the neural network to predict on the next word. Make sure you don't use a token that could be confused as a word. Instead of using the token \"dash\", try using something like \"||dash||\"."
   ]
  },
  {
   "cell_type": "code",
   "execution_count": 6,
   "metadata": {},
   "outputs": [
    {
     "name": "stdout",
     "output_type": "stream",
     "text": [
      "Tests Passed\n"
     ]
    }
   ],
   "source": [
    "def token_lookup():\n",
    "    \"\"\"\n",
    "    Generate a dict to turn punctuation into a token.\n",
    "    :return: Tokenize dictionary where the key is the punctuation and the value is the token\n",
    "    \"\"\"\n",
    "    # TODO: Implement Function\n",
    "    Token_dict = {'.':'||period||',\n",
    "                      ',':'||comma||',\n",
    "                      '\"':'||quotation_mark||',\n",
    "                      ';':'||semicolon||',\n",
    "                      '!':'||exclamation_mark||',\n",
    "                      '?':'||question_mark||',\n",
    "                      '(':'||left_parentheses||',\n",
    "                       ')':'||right_parentheses||',\n",
    "                      '--':'||dash||',\n",
    "                      '\\n':'||return||'}\n",
    "    return Token_dict\n",
    "\n",
    "\"\"\"\n",
    "DON'T MODIFY ANYTHING IN THIS CELL THAT IS BELOW THIS LINE\n",
    "\"\"\"\n",
    "tests.test_tokenize(token_lookup)"
   ]
  },
  {
   "cell_type": "markdown",
   "metadata": {},
   "source": [
    "## Preprocess all the data and save it\n",
    "Running the code cell below will preprocess all the data and save it to file."
   ]
  },
  {
   "cell_type": "code",
   "execution_count": 7,
   "metadata": {},
   "outputs": [],
   "source": [
    "\"\"\"\n",
    "DON'T MODIFY ANYTHING IN THIS CELL\n",
    "\"\"\"\n",
    "# Preprocess Training, Validation, and Testing Data\n",
    "helper.preprocess_and_save_data(data_dir, token_lookup, create_lookup_tables)"
   ]
  },
  {
   "cell_type": "markdown",
   "metadata": {},
   "source": [
    "# Check Point\n",
    "This is your first checkpoint. If you ever decide to come back to this notebook or have to restart the notebook, you can start from here. The preprocessed data has been saved to disk."
   ]
  },
  {
   "cell_type": "code",
   "execution_count": 1,
   "metadata": {},
   "outputs": [],
   "source": [
    "\"\"\"\n",
    "DON'T MODIFY ANYTHING IN THIS CELL\n",
    "\"\"\"\n",
    "import helper\n",
    "import numpy as np\n",
    "import problem_unittests as tests\n",
    "\n",
    "int_text, vocab_to_int, int_to_vocab, token_dict = helper.load_preprocess()"
   ]
  },
  {
   "cell_type": "markdown",
   "metadata": {},
   "source": [
    "## Build the Neural Network\n",
    "You'll build the components necessary to build a RNN by implementing the following functions below:\n",
    "- get_inputs\n",
    "- get_init_cell\n",
    "- get_embed\n",
    "- build_rnn\n",
    "- build_nn\n",
    "- get_batches\n",
    "\n",
    "### Check the Version of TensorFlow and Access to GPU"
   ]
  },
  {
   "cell_type": "code",
   "execution_count": 2,
   "metadata": {},
   "outputs": [
    {
     "name": "stdout",
     "output_type": "stream",
     "text": [
      "TensorFlow Version: 1.0.0\n",
      "Default GPU Device: /gpu:0\n"
     ]
    }
   ],
   "source": [
    "\"\"\"\n",
    "DON'T MODIFY ANYTHING IN THIS CELL\n",
    "\"\"\"\n",
    "from distutils.version import LooseVersion\n",
    "import warnings\n",
    "import tensorflow as tf\n",
    "\n",
    "# Check TensorFlow Version\n",
    "assert LooseVersion(tf.__version__) >= LooseVersion('1.0'), 'Please use TensorFlow version 1.0 or newer'\n",
    "print('TensorFlow Version: {}'.format(tf.__version__))\n",
    "\n",
    "# Check for a GPU\n",
    "if not tf.test.gpu_device_name():\n",
    "    warnings.warn('No GPU found. Please use a GPU to train your neural network.')\n",
    "else:\n",
    "    print('Default GPU Device: {}'.format(tf.test.gpu_device_name()))"
   ]
  },
  {
   "cell_type": "markdown",
   "metadata": {},
   "source": [
    "### Input\n",
    "Implement the `get_inputs()` function to create TF Placeholders for the Neural Network.  It should create the following placeholders:\n",
    "- Input text placeholder named \"input\" using the [TF Placeholder](https://www.tensorflow.org/api_docs/python/tf/placeholder) `name` parameter.\n",
    "- Targets placeholder\n",
    "- Learning Rate placeholder\n",
    "\n",
    "Return the placeholders in the following tuple `(Input, Targets, LearningRate)`"
   ]
  },
  {
   "cell_type": "code",
   "execution_count": 3,
   "metadata": {},
   "outputs": [
    {
     "name": "stdout",
     "output_type": "stream",
     "text": [
      "Tests Passed\n"
     ]
    }
   ],
   "source": [
    "def get_inputs():\n",
    "    \"\"\"\n",
    "    Create TF Placeholders for input, targets, and learning rate.\n",
    "    :return: Tuple (input, targets, learning rate)\n",
    "    \"\"\"\n",
    "    # TODO: Implement Function\n",
    "    Input = tf.placeholder(tf.int32, [None, None], name = \"input\")\n",
    "    Targets = tf.placeholder(tf.int32, [None, None], name = \"targets\")\n",
    "    Learning_Rate = tf.placeholder(tf.float32, name = \"learning_rate\")\n",
    "    return Input, Targets, Learning_Rate\n",
    "    \n",
    "\n",
    "\"\"\"\n",
    "DON'T MODIFY ANYTHING IN THIS CELL THAT IS BELOW THIS LINE\n",
    "\"\"\"\n",
    "tests.test_get_inputs(get_inputs)"
   ]
  },
  {
   "cell_type": "markdown",
   "metadata": {},
   "source": [
    "### Build RNN Cell and Initialize\n",
    "Stack one or more [`BasicLSTMCells`](https://www.tensorflow.org/api_docs/python/tf/contrib/rnn/BasicLSTMCell) in a [`MultiRNNCell`](https://www.tensorflow.org/api_docs/python/tf/contrib/rnn/MultiRNNCell).\n",
    "- The Rnn size should be set using `rnn_size`\n",
    "- Initalize Cell State using the MultiRNNCell's [`zero_state()`](https://www.tensorflow.org/api_docs/python/tf/contrib/rnn/MultiRNNCell#zero_state) function\n",
    "    - Apply the name \"initial_state\" to the initial state using [`tf.identity()`](https://www.tensorflow.org/api_docs/python/tf/identity)\n",
    "\n",
    "Return the cell and initial state in the following tuple `(Cell, InitialState)`"
   ]
  },
  {
   "cell_type": "code",
   "execution_count": 4,
   "metadata": {},
   "outputs": [
    {
     "name": "stdout",
     "output_type": "stream",
     "text": [
      "Tests Passed\n"
     ]
    }
   ],
   "source": [
    "def get_init_cell(batch_size, rnn_size):\n",
    "    \"\"\"\n",
    "    Create an RNN Cell and initialize it.\n",
    "    :param batch_size: Size of batches\n",
    "    :param rnn_size: Size of RNNs\n",
    "    :return: Tuple (cell, initialize state)\n",
    "    \"\"\"\n",
    "    # TODO: Implement Function\n",
    "    num_layers=3\n",
    "    lstm = tf.contrib.rnn.BasicLSTMCell(rnn_size)\n",
    "    cell = tf.contrib.rnn.MultiRNNCell([lstm] * num_layers)\n",
    "    initial_state = cell.zero_state(batch_size, tf.float32)\n",
    "    initial_state = tf.identity(initial_state, 'initial_state')\n",
    "    return cell, initial_state\n",
    "        \n",
    "\n",
    "\n",
    "\"\"\"\n",
    "DON'T MODIFY ANYTHING IN THIS CELL THAT IS BELOW THIS LINE\n",
    "\"\"\"\n",
    "tests.test_get_init_cell(get_init_cell)"
   ]
  },
  {
   "cell_type": "markdown",
   "metadata": {},
   "source": [
    "### Word Embedding\n",
    "Apply embedding to `input_data` using TensorFlow.  Return the embedded sequence."
   ]
  },
  {
   "cell_type": "code",
   "execution_count": 5,
   "metadata": {},
   "outputs": [
    {
     "name": "stdout",
     "output_type": "stream",
     "text": [
      "Tests Passed\n"
     ]
    }
   ],
   "source": [
    "def get_embed(input_data, vocab_size, embed_dim):\n",
    "    \"\"\"\n",
    "    Create embedding for <input_data>.\n",
    "    :param input_data: TF placeholder for text input.\n",
    "    :param vocab_size: Number of words in vocabulary.\n",
    "    :param embed_dim: Number of embedding dimensions\n",
    "    :return: Embedded input.\n",
    "    \"\"\"\n",
    "    # TODO: Implement Function\n",
    "    # Using the functions embeddings = tf.Variable(tf.random_uniform([vocabulary_size, embedding_size], -1.0, 1.0)) and\n",
    "    # embed = tf.nn.embedding_lookup(embeddings, train_inputs) (Ref: Tensorflow documentation)\n",
    "    embeddings = tf.Variable(tf.random_uniform((vocab_size, embed_dim), -1, 1))\n",
    "    embed = tf.nn.embedding_lookup(embeddings, input_data)\n",
    "    return embed\n",
    "\n",
    "\n",
    "\"\"\"\n",
    "DON'T MODIFY ANYTHING IN THIS CELL THAT IS BELOW THIS LINE\n",
    "\"\"\"\n",
    "tests.test_get_embed(get_embed)"
   ]
  },
  {
   "cell_type": "markdown",
   "metadata": {},
   "source": [
    "### Build RNN\n",
    "You created a RNN Cell in the `get_init_cell()` function.  Time to use the cell to create a RNN.\n",
    "- Build the RNN using the [`tf.nn.dynamic_rnn()`](https://www.tensorflow.org/api_docs/python/tf/nn/dynamic_rnn)\n",
    " - Apply the name \"final_state\" to the final state using [`tf.identity()`](https://www.tensorflow.org/api_docs/python/tf/identity)\n",
    "\n",
    "Return the outputs and final_state state in the following tuple `(Outputs, FinalState)` "
   ]
  },
  {
   "cell_type": "code",
   "execution_count": 6,
   "metadata": {},
   "outputs": [
    {
     "name": "stdout",
     "output_type": "stream",
     "text": [
      "Tests Passed\n"
     ]
    }
   ],
   "source": [
    "def build_rnn(cell, inputs):\n",
    "    \"\"\"\n",
    "    Create a RNN using a RNN Cell\n",
    "    :param cell: RNN Cell\n",
    "    :param inputs: Input text data\n",
    "    :return: Tuple (Outputs, Final State)\n",
    "    \"\"\"\n",
    "    # TODO: Implement Function\n",
    "    outputs, final_state = tf.nn.dynamic_rnn(cell, inputs, dtype=tf.float32)\n",
    "    final_state = tf.identity(final_state, 'final_state')\n",
    "    return outputs, final_state\n",
    "   \n",
    "\n",
    "\"\"\"\n",
    "DON'T MODIFY ANYTHING IN THIS CELL THAT IS BELOW THIS LINE\n",
    "\"\"\"\n",
    "tests.test_build_rnn(build_rnn)"
   ]
  },
  {
   "cell_type": "markdown",
   "metadata": {},
   "source": [
    "### Build the Neural Network\n",
    "Apply the functions you implemented above to:\n",
    "- Apply embedding to `input_data` using your `get_embed(input_data, vocab_size, embed_dim)` function.\n",
    "- Build RNN using `cell` and your `build_rnn(cell, inputs)` function.\n",
    "- Apply a fully connected layer with a linear activation and `vocab_size` as the number of outputs.\n",
    "\n",
    "Return the logits and final state in the following tuple (Logits, FinalState) "
   ]
  },
  {
   "cell_type": "code",
   "execution_count": 7,
   "metadata": {},
   "outputs": [
    {
     "name": "stdout",
     "output_type": "stream",
     "text": [
      "Tests Passed\n"
     ]
    }
   ],
   "source": [
    "def build_nn(cell, rnn_size, input_data, vocab_size, embed_dim):\n",
    "    \"\"\"\n",
    "    Build part of the neural network\n",
    "    :param cell: RNN cell\n",
    "    :param rnn_size: Size of rnns\n",
    "    :param input_data: Input data\n",
    "    :param vocab_size: Vocabulary size\n",
    "    :param embed_dim: Number of embedding dimensions\n",
    "    :return: Tuple (Logits, FinalState)\n",
    "    \"\"\"\n",
    "    # TODO: Implement Function\n",
    "    embed = get_embed(input_data, vocab_size, rnn_size)\n",
    "    output, final_state = build_rnn(cell, embed)\n",
    "    Logits = tf.contrib.layers.fully_connected(output, vocab_size, activation_fn=None)\n",
    "    return Logits, final_state\n",
    "\n",
    "\n",
    "\"\"\"\n",
    "DON'T MODIFY ANYTHING IN THIS CELL THAT IS BELOW THIS LINE\n",
    "\"\"\"\n",
    "tests.test_build_nn(build_nn)"
   ]
  },
  {
   "cell_type": "markdown",
   "metadata": {},
   "source": [
    "### Batches\n",
    "Implement `get_batches` to create batches of input and targets using `int_text`.  The batches should be a Numpy array with the shape `(number of batches, 2, batch size, sequence length)`. Each batch contains two elements:\n",
    "- The first element is a single batch of **input** with the shape `[batch size, sequence length]`\n",
    "- The second element is a single batch of **targets** with the shape `[batch size, sequence length]`\n",
    "\n",
    "If you can't fill the last batch with enough data, drop the last batch.\n",
    "\n",
    "For exmple, `get_batches([1, 2, 3, 4, 5, 6, 7, 8, 9, 10, 11, 12, 13, 14, 15, 16, 17, 18, 19, 20], 3, 2)` would return a Numpy array of the following:\n",
    "```\n",
    "[\n",
    "  # First Batch\n",
    "  [\n",
    "    # Batch of Input\n",
    "    [[ 1  2], [ 7  8], [13 14]]\n",
    "    # Batch of targets\n",
    "    [[ 2  3], [ 8  9], [14 15]]\n",
    "  ]\n",
    "\n",
    "  # Second Batch\n",
    "  [\n",
    "    # Batch of Input\n",
    "    [[ 3  4], [ 9 10], [15 16]]\n",
    "    # Batch of targets\n",
    "    [[ 4  5], [10 11], [16 17]]\n",
    "  ]\n",
    "\n",
    "  # Third Batch\n",
    "  [\n",
    "    # Batch of Input\n",
    "    [[ 5  6], [11 12], [17 18]]\n",
    "    # Batch of targets\n",
    "    [[ 6  7], [12 13], [18  1]]\n",
    "  ]\n",
    "]\n",
    "```\n",
    "\n",
    "Notice that the last target value in the last batch is the first input value of the first batch. In this case, `1`. This is a common technique used when creating sequence batches, although it is rather unintuitive."
   ]
  },
  {
   "cell_type": "code",
   "execution_count": 8,
   "metadata": {},
   "outputs": [
    {
     "name": "stdout",
     "output_type": "stream",
     "text": [
      "Tests Passed\n"
     ]
    }
   ],
   "source": [
    "def get_batches(int_text, batch_size, seq_length):\n",
    "    \"\"\"\n",
    "    Return batches of input and target\n",
    "    :param int_text: Text with the words replaced by their ids\n",
    "    :param batch_size: The size of batch\n",
    "    :param seq_length: The length of sequence\n",
    "    :return: Batches as a Numpy array\n",
    "    \"\"\"\n",
    "    # TODO: Implement Function\n",
    "    n_batch = len(int_text)//(batch_size*seq_length)\n",
    "    x_data = np.array(int_text[:batch_size*seq_length*n_batch])\n",
    "    y_data = np.array(int_text[1:batch_size*seq_length*n_batch+1])\n",
    "    \n",
    "    y_data[-1] = x_data[0] \n",
    "    x_batches = np.split(x_data.reshape(batch_size, -1), n_batch, 1)\n",
    "    y_batches = np.split(y_data.reshape(batch_size, -1), n_batch, 1)\n",
    "    \n",
    "    return np.array(list(zip(x_batches, y_batches)))\n",
    "\n",
    "\n",
    "\"\"\"\n",
    "DON'T MODIFY ANYTHING IN THIS CELL THAT IS BELOW THIS LINE\n",
    "\"\"\"\n",
    "tests.test_get_batches(get_batches)"
   ]
  },
  {
   "cell_type": "markdown",
   "metadata": {},
   "source": [
    "## Neural Network Training\n",
    "### Hyperparameters\n",
    "Tune the following parameters:\n",
    "\n",
    "- Set `num_epochs` to the number of epochs.\n",
    "- Set `batch_size` to the batch size.\n",
    "- Set `rnn_size` to the size of the RNNs.\n",
    "- Set `embed_dim` to the size of the embedding.\n",
    "- Set `seq_length` to the length of sequence.\n",
    "- Set `learning_rate` to the learning rate.\n",
    "- Set `show_every_n_batches` to the number of batches the neural network should print progress."
   ]
  },
  {
   "cell_type": "code",
   "execution_count": 9,
   "metadata": {},
   "outputs": [],
   "source": [
    "# Number of Epochs\n",
    "num_epochs = 150\n",
    "# Batch Size\n",
    "batch_size = 100\n",
    "# RNN Size\n",
    "rnn_size = 500\n",
    "# Embedding Dimension Size\n",
    "embed_dim = 250\n",
    "# Sequence Length\n",
    "seq_length = 20\n",
    "# Learning Rate\n",
    "learning_rate = 0.001\n",
    "# Show stats for every n number of batches\n",
    "show_every_n_batches = 20\n",
    "\n",
    "\"\"\"\n",
    "DON'T MODIFY ANYTHING IN THIS CELL THAT IS BELOW THIS LINE\n",
    "\"\"\"\n",
    "save_dir = './save'"
   ]
  },
  {
   "cell_type": "markdown",
   "metadata": {},
   "source": [
    "### Build the Graph\n",
    "Build the graph using the neural network you implemented."
   ]
  },
  {
   "cell_type": "code",
   "execution_count": 10,
   "metadata": {},
   "outputs": [],
   "source": [
    "\"\"\"\n",
    "DON'T MODIFY ANYTHING IN THIS CELL\n",
    "\"\"\"\n",
    "from tensorflow.contrib import seq2seq\n",
    "\n",
    "train_graph = tf.Graph()\n",
    "with train_graph.as_default():\n",
    "    vocab_size = len(int_to_vocab)\n",
    "    input_text, targets, lr = get_inputs()\n",
    "    input_data_shape = tf.shape(input_text)\n",
    "    cell, initial_state = get_init_cell(input_data_shape[0], rnn_size)\n",
    "    logits, final_state = build_nn(cell, rnn_size, input_text, vocab_size, embed_dim)\n",
    "\n",
    "    # Probabilities for generating words\n",
    "    probs = tf.nn.softmax(logits, name='probs')\n",
    "\n",
    "    # Loss function\n",
    "    cost = seq2seq.sequence_loss(\n",
    "        logits,\n",
    "        targets,\n",
    "        tf.ones([input_data_shape[0], input_data_shape[1]]))\n",
    "\n",
    "    # Optimizer\n",
    "    optimizer = tf.train.AdamOptimizer(lr)\n",
    "\n",
    "    # Gradient Clipping\n",
    "    gradients = optimizer.compute_gradients(cost)\n",
    "    capped_gradients = [(tf.clip_by_value(grad, -1., 1.), var) for grad, var in gradients if grad is not None]\n",
    "    train_op = optimizer.apply_gradients(capped_gradients)"
   ]
  },
  {
   "cell_type": "markdown",
   "metadata": {},
   "source": [
    "## Train\n",
    "Train the neural network on the preprocessed data.  If you have a hard time getting a good loss, check the [forums](https://discussions.udacity.com/) to see if anyone is having the same problem."
   ]
  },
  {
   "cell_type": "code",
   "execution_count": 11,
   "metadata": {},
   "outputs": [
    {
     "name": "stdout",
     "output_type": "stream",
     "text": [
      "Epoch   0 Batch    0/34   train_loss = 8.822\n",
      "Epoch   0 Batch   20/34   train_loss = 6.460\n",
      "Epoch   1 Batch    6/34   train_loss = 6.063\n",
      "Epoch   1 Batch   26/34   train_loss = 6.128\n",
      "Epoch   2 Batch   12/34   train_loss = 6.064\n",
      "Epoch   2 Batch   32/34   train_loss = 6.119\n",
      "Epoch   3 Batch   18/34   train_loss = 6.076\n",
      "Epoch   4 Batch    4/34   train_loss = 6.021\n",
      "Epoch   4 Batch   24/34   train_loss = 5.965\n",
      "Epoch   5 Batch   10/34   train_loss = 6.049\n",
      "Epoch   5 Batch   30/34   train_loss = 6.040\n",
      "Epoch   6 Batch   16/34   train_loss = 6.251\n",
      "Epoch   7 Batch    2/34   train_loss = 6.083\n",
      "Epoch   7 Batch   22/34   train_loss = 6.099\n",
      "Epoch   8 Batch    8/34   train_loss = 5.932\n",
      "Epoch   8 Batch   28/34   train_loss = 6.064\n",
      "Epoch   9 Batch   14/34   train_loss = 6.135\n",
      "Epoch  10 Batch    0/34   train_loss = 6.034\n",
      "Epoch  10 Batch   20/34   train_loss = 6.034\n",
      "Epoch  11 Batch    6/34   train_loss = 6.001\n",
      "Epoch  11 Batch   26/34   train_loss = 6.050\n",
      "Epoch  12 Batch   12/34   train_loss = 6.012\n",
      "Epoch  12 Batch   32/34   train_loss = 6.072\n",
      "Epoch  13 Batch   18/34   train_loss = 6.016\n",
      "Epoch  14 Batch    4/34   train_loss = 5.971\n",
      "Epoch  14 Batch   24/34   train_loss = 5.901\n",
      "Epoch  15 Batch   10/34   train_loss = 5.989\n",
      "Epoch  15 Batch   30/34   train_loss = 6.001\n",
      "Epoch  16 Batch   16/34   train_loss = 6.179\n",
      "Epoch  17 Batch    2/34   train_loss = 5.989\n",
      "Epoch  17 Batch   22/34   train_loss = 5.894\n",
      "Epoch  18 Batch    8/34   train_loss = 5.586\n",
      "Epoch  18 Batch   28/34   train_loss = 5.581\n",
      "Epoch  19 Batch   14/34   train_loss = 5.481\n",
      "Epoch  20 Batch    0/34   train_loss = 5.147\n",
      "Epoch  20 Batch   20/34   train_loss = 5.085\n",
      "Epoch  21 Batch    6/34   train_loss = 4.868\n",
      "Epoch  21 Batch   26/34   train_loss = 4.911\n",
      "Epoch  22 Batch   12/34   train_loss = 4.792\n",
      "Epoch  22 Batch   32/34   train_loss = 4.773\n",
      "Epoch  23 Batch   18/34   train_loss = 4.683\n",
      "Epoch  24 Batch    4/34   train_loss = 4.611\n",
      "Epoch  24 Batch   24/34   train_loss = 4.482\n",
      "Epoch  25 Batch   10/34   train_loss = 4.556\n",
      "Epoch  25 Batch   30/34   train_loss = 4.444\n",
      "Epoch  26 Batch   16/34   train_loss = 4.571\n",
      "Epoch  27 Batch    2/34   train_loss = 4.397\n",
      "Epoch  27 Batch   22/34   train_loss = 4.366\n",
      "Epoch  28 Batch    8/34   train_loss = 4.197\n",
      "Epoch  28 Batch   28/34   train_loss = 4.277\n",
      "Epoch  29 Batch   14/34   train_loss = 4.238\n",
      "Epoch  30 Batch    0/34   train_loss = 4.087\n",
      "Epoch  30 Batch   20/34   train_loss = 4.097\n",
      "Epoch  31 Batch    6/34   train_loss = 3.914\n",
      "Epoch  31 Batch   26/34   train_loss = 3.962\n",
      "Epoch  32 Batch   12/34   train_loss = 3.931\n",
      "Epoch  32 Batch   32/34   train_loss = 3.916\n",
      "Epoch  33 Batch   18/34   train_loss = 3.826\n",
      "Epoch  34 Batch    4/34   train_loss = 3.820\n",
      "Epoch  34 Batch   24/34   train_loss = 3.734\n",
      "Epoch  35 Batch   10/34   train_loss = 3.770\n",
      "Epoch  35 Batch   30/34   train_loss = 3.731\n",
      "Epoch  36 Batch   16/34   train_loss = 3.781\n",
      "Epoch  37 Batch    2/34   train_loss = 3.656\n",
      "Epoch  37 Batch   22/34   train_loss = 3.543\n",
      "Epoch  38 Batch    8/34   train_loss = 3.528\n",
      "Epoch  38 Batch   28/34   train_loss = 3.536\n",
      "Epoch  39 Batch   14/34   train_loss = 3.467\n",
      "Epoch  40 Batch    0/34   train_loss = 3.341\n",
      "Epoch  40 Batch   20/34   train_loss = 3.324\n",
      "Epoch  41 Batch    6/34   train_loss = 3.211\n",
      "Epoch  41 Batch   26/34   train_loss = 3.275\n",
      "Epoch  42 Batch   12/34   train_loss = 3.202\n",
      "Epoch  42 Batch   32/34   train_loss = 3.184\n",
      "Epoch  43 Batch   18/34   train_loss = 3.073\n",
      "Epoch  44 Batch    4/34   train_loss = 3.100\n",
      "Epoch  44 Batch   24/34   train_loss = 2.928\n",
      "Epoch  45 Batch   10/34   train_loss = 3.042\n",
      "Epoch  45 Batch   30/34   train_loss = 2.941\n",
      "Epoch  46 Batch   16/34   train_loss = 2.958\n",
      "Epoch  47 Batch    2/34   train_loss = 2.880\n",
      "Epoch  47 Batch   22/34   train_loss = 2.833\n",
      "Epoch  48 Batch    8/34   train_loss = 2.942\n",
      "Epoch  48 Batch   28/34   train_loss = 2.839\n",
      "Epoch  49 Batch   14/34   train_loss = 2.732\n",
      "Epoch  50 Batch    0/34   train_loss = 2.715\n",
      "Epoch  50 Batch   20/34   train_loss = 2.729\n",
      "Epoch  51 Batch    6/34   train_loss = 2.583\n",
      "Epoch  51 Batch   26/34   train_loss = 2.643\n",
      "Epoch  52 Batch   12/34   train_loss = 2.525\n",
      "Epoch  52 Batch   32/34   train_loss = 2.543\n",
      "Epoch  53 Batch   18/34   train_loss = 2.400\n",
      "Epoch  54 Batch    4/34   train_loss = 2.422\n",
      "Epoch  54 Batch   24/34   train_loss = 2.298\n",
      "Epoch  55 Batch   10/34   train_loss = 2.401\n",
      "Epoch  55 Batch   30/34   train_loss = 2.320\n",
      "Epoch  56 Batch   16/34   train_loss = 2.295\n",
      "Epoch  57 Batch    2/34   train_loss = 2.270\n",
      "Epoch  57 Batch   22/34   train_loss = 2.210\n",
      "Epoch  58 Batch    8/34   train_loss = 2.278\n",
      "Epoch  58 Batch   28/34   train_loss = 2.233\n",
      "Epoch  59 Batch   14/34   train_loss = 2.134\n",
      "Epoch  60 Batch    0/34   train_loss = 2.090\n",
      "Epoch  60 Batch   20/34   train_loss = 2.156\n",
      "Epoch  61 Batch    6/34   train_loss = 2.119\n",
      "Epoch  61 Batch   26/34   train_loss = 2.156\n",
      "Epoch  62 Batch   12/34   train_loss = 2.018\n",
      "Epoch  62 Batch   32/34   train_loss = 1.987\n",
      "Epoch  63 Batch   18/34   train_loss = 1.892\n",
      "Epoch  64 Batch    4/34   train_loss = 1.871\n",
      "Epoch  64 Batch   24/34   train_loss = 1.775\n",
      "Epoch  65 Batch   10/34   train_loss = 1.852\n",
      "Epoch  65 Batch   30/34   train_loss = 1.734\n",
      "Epoch  66 Batch   16/34   train_loss = 1.682\n",
      "Epoch  67 Batch    2/34   train_loss = 1.674\n",
      "Epoch  67 Batch   22/34   train_loss = 1.640\n",
      "Epoch  68 Batch    8/34   train_loss = 1.739\n",
      "Epoch  68 Batch   28/34   train_loss = 1.580\n",
      "Epoch  69 Batch   14/34   train_loss = 1.461\n",
      "Epoch  70 Batch    0/34   train_loss = 1.475\n",
      "Epoch  70 Batch   20/34   train_loss = 1.456\n",
      "Epoch  71 Batch    6/34   train_loss = 1.460\n",
      "Epoch  71 Batch   26/34   train_loss = 1.547\n",
      "Epoch  72 Batch   12/34   train_loss = 1.417\n",
      "Epoch  72 Batch   32/34   train_loss = 1.450\n",
      "Epoch  73 Batch   18/34   train_loss = 1.340\n",
      "Epoch  74 Batch    4/34   train_loss = 1.359\n",
      "Epoch  74 Batch   24/34   train_loss = 1.274\n",
      "Epoch  75 Batch   10/34   train_loss = 1.393\n",
      "Epoch  75 Batch   30/34   train_loss = 1.299\n",
      "Epoch  76 Batch   16/34   train_loss = 1.195\n",
      "Epoch  77 Batch    2/34   train_loss = 1.212\n",
      "Epoch  77 Batch   22/34   train_loss = 1.258\n",
      "Epoch  78 Batch    8/34   train_loss = 1.303\n",
      "Epoch  78 Batch   28/34   train_loss = 1.210\n",
      "Epoch  79 Batch   14/34   train_loss = 1.056\n",
      "Epoch  80 Batch    0/34   train_loss = 1.029\n",
      "Epoch  80 Batch   20/34   train_loss = 1.059\n",
      "Epoch  81 Batch    6/34   train_loss = 1.058\n",
      "Epoch  81 Batch   26/34   train_loss = 1.111\n",
      "Epoch  82 Batch   12/34   train_loss = 0.967\n",
      "Epoch  82 Batch   32/34   train_loss = 1.006\n",
      "Epoch  83 Batch   18/34   train_loss = 0.919\n",
      "Epoch  84 Batch    4/34   train_loss = 0.882\n",
      "Epoch  84 Batch   24/34   train_loss = 0.895\n",
      "Epoch  85 Batch   10/34   train_loss = 0.937\n",
      "Epoch  85 Batch   30/34   train_loss = 0.904\n",
      "Epoch  86 Batch   16/34   train_loss = 0.843\n",
      "Epoch  87 Batch    2/34   train_loss = 0.840\n",
      "Epoch  87 Batch   22/34   train_loss = 0.836\n",
      "Epoch  88 Batch    8/34   train_loss = 0.882\n",
      "Epoch  88 Batch   28/34   train_loss = 0.831\n",
      "Epoch  89 Batch   14/34   train_loss = 0.751\n",
      "Epoch  90 Batch    0/34   train_loss = 0.743\n",
      "Epoch  90 Batch   20/34   train_loss = 0.834\n",
      "Epoch  91 Batch    6/34   train_loss = 0.811\n",
      "Epoch  91 Batch   26/34   train_loss = 0.828\n",
      "Epoch  92 Batch   12/34   train_loss = 0.748\n",
      "Epoch  92 Batch   32/34   train_loss = 0.799\n",
      "Epoch  93 Batch   18/34   train_loss = 0.766\n",
      "Epoch  94 Batch    4/34   train_loss = 0.711\n",
      "Epoch  94 Batch   24/34   train_loss = 0.749\n",
      "Epoch  95 Batch   10/34   train_loss = 0.705\n",
      "Epoch  95 Batch   30/34   train_loss = 0.732\n",
      "Epoch  96 Batch   16/34   train_loss = 0.599\n",
      "Epoch  97 Batch    2/34   train_loss = 0.624\n",
      "Epoch  97 Batch   22/34   train_loss = 0.622\n",
      "Epoch  98 Batch    8/34   train_loss = 0.642\n",
      "Epoch  98 Batch   28/34   train_loss = 0.636\n",
      "Epoch  99 Batch   14/34   train_loss = 0.526\n",
      "Epoch 100 Batch    0/34   train_loss = 0.492\n",
      "Epoch 100 Batch   20/34   train_loss = 0.517\n",
      "Epoch 101 Batch    6/34   train_loss = 0.496\n",
      "Epoch 101 Batch   26/34   train_loss = 0.563\n",
      "Epoch 102 Batch   12/34   train_loss = 0.479\n",
      "Epoch 102 Batch   32/34   train_loss = 0.559\n",
      "Epoch 103 Batch   18/34   train_loss = 0.429\n",
      "Epoch 104 Batch    4/34   train_loss = 0.442\n",
      "Epoch 104 Batch   24/34   train_loss = 0.409\n",
      "Epoch 105 Batch   10/34   train_loss = 0.423\n",
      "Epoch 105 Batch   30/34   train_loss = 0.418\n",
      "Epoch 106 Batch   16/34   train_loss = 0.356\n",
      "Epoch 107 Batch    2/34   train_loss = 0.400\n"
     ]
    },
    {
     "name": "stdout",
     "output_type": "stream",
     "text": [
      "Epoch 107 Batch   22/34   train_loss = 0.375\n",
      "Epoch 108 Batch    8/34   train_loss = 0.385\n",
      "Epoch 108 Batch   28/34   train_loss = 0.351\n",
      "Epoch 109 Batch   14/34   train_loss = 0.335\n",
      "Epoch 110 Batch    0/34   train_loss = 0.294\n",
      "Epoch 110 Batch   20/34   train_loss = 0.352\n",
      "Epoch 111 Batch    6/34   train_loss = 0.311\n",
      "Epoch 111 Batch   26/34   train_loss = 0.352\n",
      "Epoch 112 Batch   12/34   train_loss = 0.332\n",
      "Epoch 112 Batch   32/34   train_loss = 0.353\n",
      "Epoch 113 Batch   18/34   train_loss = 0.309\n",
      "Epoch 114 Batch    4/34   train_loss = 0.306\n",
      "Epoch 114 Batch   24/34   train_loss = 0.355\n",
      "Epoch 115 Batch   10/34   train_loss = 0.326\n",
      "Epoch 115 Batch   30/34   train_loss = 0.354\n",
      "Epoch 116 Batch   16/34   train_loss = 0.288\n",
      "Epoch 117 Batch    2/34   train_loss = 0.317\n",
      "Epoch 117 Batch   22/34   train_loss = 0.309\n",
      "Epoch 118 Batch    8/34   train_loss = 0.311\n",
      "Epoch 118 Batch   28/34   train_loss = 0.305\n",
      "Epoch 119 Batch   14/34   train_loss = 0.293\n",
      "Epoch 120 Batch    0/34   train_loss = 0.257\n",
      "Epoch 120 Batch   20/34   train_loss = 0.314\n",
      "Epoch 121 Batch    6/34   train_loss = 0.265\n",
      "Epoch 121 Batch   26/34   train_loss = 0.299\n",
      "Epoch 122 Batch   12/34   train_loss = 0.265\n",
      "Epoch 122 Batch   32/34   train_loss = 0.278\n",
      "Epoch 123 Batch   18/34   train_loss = 0.236\n",
      "Epoch 124 Batch    4/34   train_loss = 0.239\n",
      "Epoch 124 Batch   24/34   train_loss = 0.244\n",
      "Epoch 125 Batch   10/34   train_loss = 0.245\n",
      "Epoch 125 Batch   30/34   train_loss = 0.252\n",
      "Epoch 126 Batch   16/34   train_loss = 0.209\n",
      "Epoch 127 Batch    2/34   train_loss = 0.225\n",
      "Epoch 127 Batch   22/34   train_loss = 0.228\n",
      "Epoch 128 Batch    8/34   train_loss = 0.225\n",
      "Epoch 128 Batch   28/34   train_loss = 0.219\n",
      "Epoch 129 Batch   14/34   train_loss = 0.211\n",
      "Epoch 130 Batch    0/34   train_loss = 0.180\n",
      "Epoch 130 Batch   20/34   train_loss = 0.221\n",
      "Epoch 131 Batch    6/34   train_loss = 0.186\n",
      "Epoch 131 Batch   26/34   train_loss = 0.212\n",
      "Epoch 132 Batch   12/34   train_loss = 0.216\n",
      "Epoch 132 Batch   32/34   train_loss = 0.218\n",
      "Epoch 133 Batch   18/34   train_loss = 0.197\n",
      "Epoch 134 Batch    4/34   train_loss = 0.184\n",
      "Epoch 134 Batch   24/34   train_loss = 0.197\n",
      "Epoch 135 Batch   10/34   train_loss = 0.198\n",
      "Epoch 135 Batch   30/34   train_loss = 0.207\n",
      "Epoch 136 Batch   16/34   train_loss = 0.183\n",
      "Epoch 137 Batch    2/34   train_loss = 0.193\n",
      "Epoch 137 Batch   22/34   train_loss = 0.197\n",
      "Epoch 138 Batch    8/34   train_loss = 0.189\n",
      "Epoch 138 Batch   28/34   train_loss = 0.187\n",
      "Epoch 139 Batch   14/34   train_loss = 0.177\n",
      "Epoch 140 Batch    0/34   train_loss = 0.154\n",
      "Epoch 140 Batch   20/34   train_loss = 0.189\n",
      "Epoch 141 Batch    6/34   train_loss = 0.158\n",
      "Epoch 141 Batch   26/34   train_loss = 0.186\n",
      "Epoch 142 Batch   12/34   train_loss = 0.184\n",
      "Epoch 142 Batch   32/34   train_loss = 0.188\n",
      "Epoch 143 Batch   18/34   train_loss = 0.170\n",
      "Epoch 144 Batch    4/34   train_loss = 0.158\n",
      "Epoch 144 Batch   24/34   train_loss = 0.174\n",
      "Epoch 145 Batch   10/34   train_loss = 0.172\n",
      "Epoch 145 Batch   30/34   train_loss = 0.183\n",
      "Epoch 146 Batch   16/34   train_loss = 0.164\n",
      "Epoch 147 Batch    2/34   train_loss = 0.174\n",
      "Epoch 147 Batch   22/34   train_loss = 0.177\n",
      "Epoch 148 Batch    8/34   train_loss = 0.172\n",
      "Epoch 148 Batch   28/34   train_loss = 0.169\n",
      "Epoch 149 Batch   14/34   train_loss = 0.166\n",
      "Model Trained and Saved\n"
     ]
    }
   ],
   "source": [
    "\"\"\"\n",
    "DON'T MODIFY ANYTHING IN THIS CELL\n",
    "\"\"\"\n",
    "batches = get_batches(int_text, batch_size, seq_length)\n",
    "\n",
    "with tf.Session(graph=train_graph) as sess:\n",
    "    sess.run(tf.global_variables_initializer())\n",
    "\n",
    "    for epoch_i in range(num_epochs):\n",
    "        state = sess.run(initial_state, {input_text: batches[0][0]})\n",
    "\n",
    "        for batch_i, (x, y) in enumerate(batches):\n",
    "            feed = {\n",
    "                input_text: x,\n",
    "                targets: y,\n",
    "                initial_state: state,\n",
    "                lr: learning_rate}\n",
    "            train_loss, state, _ = sess.run([cost, final_state, train_op], feed)\n",
    "\n",
    "            # Show every <show_every_n_batches> batches\n",
    "            if (epoch_i * len(batches) + batch_i) % show_every_n_batches == 0:\n",
    "                print('Epoch {:>3} Batch {:>4}/{}   train_loss = {:.3f}'.format(\n",
    "                    epoch_i,\n",
    "                    batch_i,\n",
    "                    len(batches),\n",
    "                    train_loss))\n",
    "\n",
    "    # Save Model\n",
    "    saver = tf.train.Saver()\n",
    "    saver.save(sess, save_dir)\n",
    "    print('Model Trained and Saved')"
   ]
  },
  {
   "cell_type": "markdown",
   "metadata": {},
   "source": [
    "## Save Parameters\n",
    "Save `seq_length` and `save_dir` for generating a new TV script."
   ]
  },
  {
   "cell_type": "code",
   "execution_count": 12,
   "metadata": {},
   "outputs": [],
   "source": [
    "\"\"\"\n",
    "DON'T MODIFY ANYTHING IN THIS CELL\n",
    "\"\"\"\n",
    "# Save parameters for checkpoint\n",
    "helper.save_params((seq_length, save_dir))"
   ]
  },
  {
   "cell_type": "markdown",
   "metadata": {},
   "source": [
    "# Checkpoint"
   ]
  },
  {
   "cell_type": "code",
   "execution_count": 13,
   "metadata": {},
   "outputs": [],
   "source": [
    "\"\"\"\n",
    "DON'T MODIFY ANYTHING IN THIS CELL\n",
    "\"\"\"\n",
    "import tensorflow as tf\n",
    "import numpy as np\n",
    "import helper\n",
    "import problem_unittests as tests\n",
    "\n",
    "_, vocab_to_int, int_to_vocab, token_dict = helper.load_preprocess()\n",
    "seq_length, load_dir = helper.load_params()"
   ]
  },
  {
   "cell_type": "markdown",
   "metadata": {},
   "source": [
    "## Implement Generate Functions\n",
    "### Get Tensors\n",
    "Get tensors from `loaded_graph` using the function [`get_tensor_by_name()`](https://www.tensorflow.org/api_docs/python/tf/Graph#get_tensor_by_name).  Get the tensors using the following names:\n",
    "- \"input:0\"\n",
    "- \"initial_state:0\"\n",
    "- \"final_state:0\"\n",
    "- \"probs:0\"\n",
    "\n",
    "Return the tensors in the following tuple `(InputTensor, InitialStateTensor, FinalStateTensor, ProbsTensor)` "
   ]
  },
  {
   "cell_type": "code",
   "execution_count": 14,
   "metadata": {},
   "outputs": [
    {
     "name": "stdout",
     "output_type": "stream",
     "text": [
      "Tests Passed\n"
     ]
    }
   ],
   "source": [
    "def get_tensors(loaded_graph):\n",
    "    \"\"\"\n",
    "    Get input, initial state, final state, and probabilities tensor from <loaded_graph>\n",
    "    :param loaded_graph: TensorFlow graph loaded from file\n",
    "    :return: Tuple (InputTensor, InitialStateTensor, FinalStateTensor, ProbsTensor)\n",
    "    \"\"\"\n",
    "    # TODO: Implement Function\n",
    "    input_tensor = loaded_graph.get_tensor_by_name('input:0')\n",
    "    initial_state_tensor = loaded_graph.get_tensor_by_name('initial_state:0')\n",
    "    final_state_tensor = loaded_graph.get_tensor_by_name('final_state:0')\n",
    "    probs_tensor = loaded_graph.get_tensor_by_name('probs:0')\n",
    "    return input_tensor, initial_state_tensor, final_state_tensor, probs_tensor\n",
    "   \n",
    "\n",
    "\n",
    "\"\"\"\n",
    "DON'T MODIFY ANYTHING IN THIS CELL THAT IS BELOW THIS LINE\n",
    "\"\"\"\n",
    "tests.test_get_tensors(get_tensors)"
   ]
  },
  {
   "cell_type": "markdown",
   "metadata": {},
   "source": [
    "### Choose Word\n",
    "Implement the `pick_word()` function to select the next word using `probabilities`."
   ]
  },
  {
   "cell_type": "code",
   "execution_count": 15,
   "metadata": {},
   "outputs": [
    {
     "name": "stdout",
     "output_type": "stream",
     "text": [
      "Tests Passed\n"
     ]
    }
   ],
   "source": [
    "def pick_word(probabilities, int_to_vocab):\n",
    "    \"\"\"\n",
    "    Pick the next word in the generated text\n",
    "    :param probabilities: Probabilites of the next word\n",
    "    :param int_to_vocab: Dictionary of word ids as the keys and words as the values\n",
    "    :return: String of the predicted word\n",
    "    \"\"\"\n",
    "    # TODO: Implement Function\n",
    "    prob_next_word = np.argmax(probabilities)\n",
    "    predicted_word = int_to_vocab[prob_next_word]\n",
    "    return predicted_word\n",
    "   \n",
    "\n",
    "\n",
    "\"\"\"\n",
    "DON'T MODIFY ANYTHING IN THIS CELL THAT IS BELOW THIS LINE\n",
    "\"\"\"\n",
    "tests.test_pick_word(pick_word)"
   ]
  },
  {
   "cell_type": "markdown",
   "metadata": {},
   "source": [
    "## Generate TV Script\n",
    "This will generate the TV script for you.  Set `gen_length` to the length of TV script you want to generate."
   ]
  },
  {
   "cell_type": "code",
   "execution_count": 17,
   "metadata": {},
   "outputs": [
    {
     "name": "stdout",
     "output_type": "stream",
     "text": [
      "moe_szyslak:(into phone) gotcha ya down for forty bucks. good luck your eminence.\n",
      "moe_szyslak: sorry, homer.\n",
      "homer_simpson:(\" rule britannia\") okay, i'll go for some\" finding from trouble and he made your love.\"\n",
      "\n",
      "\n",
      "moe_szyslak: well...(first head)...\n",
      "renee:(flustered) oh, no.(third homer) have something better better as this so-called lady!\n",
      "\n",
      "\n",
      "homer_simpson: yes! those moe? that's those time for day?\n",
      "moe_szyslak: that seems a beer, laramie would believe our cool ago from the ointment man, or during a nucular plant and save my delightfully who had a lot on the ugly time.\n",
      "waylon_smithers: really, uh, the snow butt is is. you was the poster mitts, join him on that.\n",
      "moe_szyslak: nah, here it down-- when--(realizing) hey, this is your wife and be alcohol with the mayor machine.\n",
      "moe_szyslak: ooh, the owner is says this gold when is gonna never lost\n"
     ]
    }
   ],
   "source": [
    "gen_length = 200\n",
    "# homer_simpson, moe_szyslak, or Barney_Gumble\n",
    "prime_word = 'moe_szyslak'\n",
    "\n",
    "\"\"\"\n",
    "DON'T MODIFY ANYTHING IN THIS CELL THAT IS BELOW THIS LINE\n",
    "\"\"\"\n",
    "loaded_graph = tf.Graph()\n",
    "with tf.Session(graph=loaded_graph) as sess:\n",
    "    # Load saved model\n",
    "    loader = tf.train.import_meta_graph(load_dir + '.meta')\n",
    "    loader.restore(sess, load_dir)\n",
    "\n",
    "    # Get Tensors from loaded model\n",
    "    input_text, initial_state, final_state, probs = get_tensors(loaded_graph)\n",
    "\n",
    "    # Sentences generation setup\n",
    "    gen_sentences = [prime_word + ':']\n",
    "    prev_state = sess.run(initial_state, {input_text: np.array([[1]])})\n",
    "\n",
    "    # Generate sentences\n",
    "    for n in range(gen_length):\n",
    "        # Dynamic Input\n",
    "        dyn_input = [[vocab_to_int[word] for word in gen_sentences[-seq_length:]]]\n",
    "        dyn_seq_length = len(dyn_input[0])\n",
    "\n",
    "        # Get Prediction\n",
    "        probabilities, prev_state = sess.run(\n",
    "            [probs, final_state],\n",
    "            {input_text: dyn_input, initial_state: prev_state})\n",
    "        \n",
    "        pred_word = pick_word(probabilities[dyn_seq_length-1], int_to_vocab)\n",
    "\n",
    "        gen_sentences.append(pred_word)\n",
    "    \n",
    "    # Remove tokens\n",
    "    tv_script = ' '.join(gen_sentences)\n",
    "    for key, token in token_dict.items():\n",
    "        ending = ' ' if key in ['\\n', '(', '\"'] else ''\n",
    "        tv_script = tv_script.replace(' ' + token.lower(), key)\n",
    "    tv_script = tv_script.replace('\\n ', '\\n')\n",
    "    tv_script = tv_script.replace('( ', '(')\n",
    "        \n",
    "    print(tv_script)"
   ]
  },
  {
   "cell_type": "markdown",
   "metadata": {},
   "source": [
    "# The TV Script is Nonsensical\n",
    "It's ok if the TV script doesn't make any sense.  We trained on less than a megabyte of text.  In order to get good results, you'll have to use a smaller vocabulary or get more data.  Luckly there's more data!  As we mentioned in the begging of this project, this is a subset of [another dataset](https://www.kaggle.com/wcukierski/the-simpsons-by-the-data).  We didn't have you train on all the data, because that would take too long.  However, you are free to train your neural network on all the data.  After you complete the project, of course.\n",
    "# Submitting This Project\n",
    "When submitting this project, make sure to run all the cells before saving the notebook. Save the notebook file as \"dlnd_tv_script_generation.ipynb\" and save it as a HTML file under \"File\" -> \"Download as\". Include the \"helper.py\" and \"problem_unittests.py\" files in your submission."
   ]
  }
 ],
 "metadata": {
  "kernelspec": {
   "display_name": "Python 3",
   "language": "python",
   "name": "python3"
  },
  "language_info": {
   "codemirror_mode": {
    "name": "ipython",
    "version": 3
   },
   "file_extension": ".py",
   "mimetype": "text/x-python",
   "name": "python",
   "nbconvert_exporter": "python",
   "pygments_lexer": "ipython3",
   "version": "3.5.2"
  },
  "widgets": {
   "state": {},
   "version": "1.1.2"
  }
 },
 "nbformat": 4,
 "nbformat_minor": 1
}
